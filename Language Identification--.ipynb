{
 "cells": [
  {
   "cell_type": "markdown",
   "id": "16405ee2-0502-472b-b3ce-fc6c4f823642",
   "metadata": {},
   "source": [
    "# Langauge Identification - Classification"
   ]
  },
  {
   "cell_type": "markdown",
   "id": "4d57958c-48df-44c4-b796-4690afaee49d",
   "metadata": {},
   "source": [
    "## Import Libraries"
   ]
  },
  {
   "cell_type": "code",
   "execution_count": 2,
   "id": "20a30209-1d3c-406d-a8dc-5e83e83307ee",
   "metadata": {},
   "outputs": [],
   "source": [
    "# Import ignore warnings\n",
    "import warnings\n",
    "warnings.filterwarnings(\"ignore\")\n",
    "\n",
    "# Preprocessed dataset\n",
    "import pandas as pd\n",
    "from mpl_toolkits.mplot3d import Axes3D\n",
    "from sklearn.preprocessing import StandardScaler\n",
    "import matplotlib.pyplot as plt # plotting\n",
    "import numpy as np\n",
    "import seaborn as sns\n",
    "\n",
    "# Modelling\n",
    "from sklearn.model_selection import train_test_split\n",
    "from sklearn.feature_extraction.text import*\n",
    "from sklearn                         import preprocessing\n",
    "from sklearn.preprocessing           import LabelEncoder\n",
    "from sklearn.ensemble                import RandomForestClassifier\n",
    "from sklearn.svm                     import LinearSVC\n",
    "from sklearn.linear_model            import LogisticRegression\n",
    "from sklearn.metrics                 import accuracy_score\n",
    "\n"
   ]
  },
  {
   "cell_type": "markdown",
   "id": "c6a1716f-16b4-4b08-9904-fae6c6a02d93",
   "metadata": {},
   "source": [
    "## Import data and data preparation"
   ]
  },
  {
   "cell_type": "code",
   "execution_count": 6,
   "id": "fa9a5e66-d1d5-437f-b5b7-6fb8ed7d31a1",
   "metadata": {},
   "outputs": [
    {
     "ename": "TypeError",
     "evalue": "read_csv() got an unexpected keyword argument 'index'",
     "output_type": "error",
     "traceback": [
      "\u001b[1;31m---------------------------------------------------------------------------\u001b[0m",
      "\u001b[1;31mTypeError\u001b[0m                                 Traceback (most recent call last)",
      "Input \u001b[1;32mIn [6]\u001b[0m, in \u001b[0;36m<cell line: 1>\u001b[1;34m()\u001b[0m\n\u001b[1;32m----> 1\u001b[0m dataset\u001b[38;5;241m=\u001b[39m\u001b[43mpd\u001b[49m\u001b[38;5;241;43m.\u001b[39;49m\u001b[43mread_csv\u001b[49m\u001b[43m(\u001b[49m\u001b[38;5;124;43m'\u001b[39;49m\u001b[38;5;124;43m./train_set.csv\u001b[39;49m\u001b[38;5;124;43m'\u001b[39;49m\u001b[43m \u001b[49m\u001b[43m,\u001b[49m\u001b[43m \u001b[49m\u001b[43mindex\u001b[49m\u001b[38;5;241;43m=\u001b[39;49m\u001b[38;5;28;43;01mFalse\u001b[39;49;00m\u001b[43m,\u001b[49m\u001b[43m \u001b[49m\u001b[43mheader\u001b[49m\u001b[43m \u001b[49m\u001b[38;5;241;43m=\u001b[39;49m\u001b[43m \u001b[49m\u001b[38;5;241;43m1\u001b[39;49m\u001b[43m)\u001b[49m\n\u001b[0;32m      2\u001b[0m dataset\u001b[38;5;241m.\u001b[39mhead()\n",
      "File \u001b[1;32mC:\\ProgramData\\Anaconda3\\lib\\site-packages\\pandas\\util\\_decorators.py:311\u001b[0m, in \u001b[0;36mdeprecate_nonkeyword_arguments.<locals>.decorate.<locals>.wrapper\u001b[1;34m(*args, **kwargs)\u001b[0m\n\u001b[0;32m    305\u001b[0m \u001b[38;5;28;01mif\u001b[39;00m \u001b[38;5;28mlen\u001b[39m(args) \u001b[38;5;241m>\u001b[39m num_allow_args:\n\u001b[0;32m    306\u001b[0m     warnings\u001b[38;5;241m.\u001b[39mwarn(\n\u001b[0;32m    307\u001b[0m         msg\u001b[38;5;241m.\u001b[39mformat(arguments\u001b[38;5;241m=\u001b[39marguments),\n\u001b[0;32m    308\u001b[0m         \u001b[38;5;167;01mFutureWarning\u001b[39;00m,\n\u001b[0;32m    309\u001b[0m         stacklevel\u001b[38;5;241m=\u001b[39mstacklevel,\n\u001b[0;32m    310\u001b[0m     )\n\u001b[1;32m--> 311\u001b[0m \u001b[38;5;28;01mreturn\u001b[39;00m func(\u001b[38;5;241m*\u001b[39margs, \u001b[38;5;241m*\u001b[39m\u001b[38;5;241m*\u001b[39mkwargs)\n",
      "\u001b[1;31mTypeError\u001b[0m: read_csv() got an unexpected keyword argument 'index'"
     ]
    }
   ],
   "source": [
    "dataset=pd.read_csv('./train_set.csv' , index=False, header = 1)\n",
    "dataset.head()"
   ]
  },
  {
   "cell_type": "code",
   "execution_count": 17,
   "id": "c135b35a-4120-41a0-a279-f9da319755d7",
   "metadata": {},
   "outputs": [
    {
     "data": {
      "text/plain": [
       "lang_id    0\n",
       "text       0\n",
       "dtype: int64"
      ]
     },
     "execution_count": 17,
     "metadata": {},
     "output_type": "execute_result"
    }
   ],
   "source": [
    "dataset.isnull().sum()"
   ]
  },
  {
   "cell_type": "markdown",
   "id": "1b54f951-d4dd-4854-a469-934360e36197",
   "metadata": {},
   "source": [
    "## Data Visualization"
   ]
  },
  {
   "cell_type": "code",
   "execution_count": 18,
   "id": "83fe4e73-6ad4-48d7-b157-7e008d1c1003",
   "metadata": {},
   "outputs": [
    {
     "data": {
      "text/plain": [
       "<AxesSubplot:xlabel='lang_id', ylabel='count'>"
      ]
     },
     "execution_count": 18,
     "metadata": {},
     "output_type": "execute_result"
    },
    {
     "data": {
      "image/png": "[encoded data removed]",
      "text/plain": [
       "<Figure size 432x288 with 1 Axes>"
      ]
     },
     "metadata": {
      "needs_background": "light"
     },
     "output_type": "display_data"
    }
   ],
   "source": [
    "sns.countplot(dataset.lang_id)"
   ]
  },
  {
   "cell_type": "markdown",
   "id": "9bd1bb79-6d87-4531-a11f-2c79dd46a63d",
   "metadata": {},
   "source": [
    "## Modelling"
   ]
  },
  {
   "cell_type": "markdown",
   "id": "048bca2a-f92b-4b53-b6a6-ea63d513987c",
   "metadata": {},
   "source": [
    "### Separate features and target"
   ]
  },
  {
   "cell_type": "code",
   "execution_count": 19,
   "id": "f45846e6-8d0d-491d-8be0-e9f5282c6e69",
   "metadata": {},
   "outputs": [],
   "source": [
    "#split the data into train and test set\n",
    "text = dataset.text\n",
    "language = dataset.lang_id\n",
    "train_features, test_features, train_labels, test_labels = train_test_split(text, language, test_size=0.20, random_state=5)"
   ]
  },
  {
   "cell_type": "code",
   "execution_count": 20,
   "id": "5ea499bb-b7d9-4a46-9b6e-5808a2014012",
   "metadata": {},
   "outputs": [
    {
     "name": "stdout",
     "output_type": "stream",
     "text": [
      "lenght of training data =  26400\n",
      "lenght of test data =  6600\n"
     ]
    }
   ],
   "source": [
    "print('lenght of training data = ',len(train_features))\n",
    "print('lenght of test data = ', len(test_features))"
   ]
  },
  {
   "cell_type": "markdown",
   "id": "fb23eb4d-073e-403b-897d-1135803119e2",
   "metadata": {},
   "source": [
    "#### Feature extraction"
   ]
  },
  {
   "cell_type": "code",
   "execution_count": 21,
   "id": "b15643a3-85c5-4818-8d8b-21d48d0428a4",
   "metadata": {},
   "outputs": [
    {
     "data": {
      "text/plain": [
       "(26400, 1000)"
      ]
     },
     "execution_count": 21,
     "metadata": {},
     "output_type": "execute_result"
    }
   ],
   "source": [
    "#uni gram\n",
    "uni_vector =   CountVectorizer( strip_accents='unicode', analyzer='word', token_pattern=r'\\w{1,}', \n",
    "                          stop_words=None, ngram_range=(1,1), max_features=1000)\n",
    "bag_of_words_uni = uni_vector.fit_transform(train_features)\n",
    "bag_of_words_uni.shape"
   ]
  },
  {
   "cell_type": "code",
   "execution_count": 22,
   "id": "9d3c352c-c708-47a7-bcda-55e27a980aec",
   "metadata": {},
   "outputs": [],
   "source": [
    "#bigram\n",
    "bi_vector =   CountVectorizer( strip_accents='unicode', analyzer='word', token_pattern=r'\\w{1,}', \n",
    "                          stop_words=None, ngram_range=(2,2), max_features=1000)\n",
    "bag_of_words_bi = bi_vector.fit_transform(train_features)"
   ]
  },
  {
   "cell_type": "code",
   "execution_count": 23,
   "id": "238e8fe7-f4dd-4dec-a09c-0cac01f6cdbc",
   "metadata": {},
   "outputs": [],
   "source": [
    "#trigram\n",
    "tri_vector =   CountVectorizer( strip_accents='unicode', analyzer='word', token_pattern=r'\\w{1,}', \n",
    "                          stop_words=None, ngram_range=(3,3), max_features=1000)\n",
    "bag_of_words_tri = tri_vector.fit_transform(train_features)"
   ]
  },
  {
   "cell_type": "code",
   "execution_count": 24,
   "id": "ae77d98e-6707-4e6f-bfad-f87bc996c0b4",
   "metadata": {},
   "outputs": [],
   "source": [
    "#3chargram\n",
    "char3_vector =   CountVectorizer( strip_accents='unicode', analyzer='char', token_pattern=r'\\w{1,}', \n",
    "                          stop_words=None, ngram_range=(3,3), max_features=1000)\n",
    "bag_of_words_char3 = char3_vector.fit_transform(train_features)"
   ]
  },
  {
   "cell_type": "code",
   "execution_count": 25,
   "id": "1f02de60-ff87-4193-9dda-23055c6be289",
   "metadata": {},
   "outputs": [],
   "source": [
    "#4chargram\n",
    "char4_vector =   CountVectorizer( strip_accents='unicode', analyzer='char', token_pattern=r'\\w{1,}', \n",
    "                          stop_words=None, ngram_range=(4,4), max_features=1000)\n",
    "bag_of_words_char4 = char4_vector.fit_transform(train_features)"
   ]
  },
  {
   "cell_type": "code",
   "execution_count": 26,
   "id": "adc3a329-0f8f-4913-b70f-b8bd0ae8f23c",
   "metadata": {},
   "outputs": [],
   "source": [
    "#5chargram\n",
    "char5_vector =   CountVectorizer( strip_accents='unicode', analyzer='char', token_pattern=r'\\w{1,}', \n",
    "                          stop_words=None, ngram_range=(5,5), max_features=1000)\n",
    "bag_of_words_char5 = char5_vector.fit_transform(train_features)"
   ]
  },
  {
   "cell_type": "code",
   "execution_count": 27,
   "id": "ed13ea49-c7a5-4a5f-9910-822597197407",
   "metadata": {},
   "outputs": [],
   "source": [
    "#6chargram\n",
    "char6_vector =   CountVectorizer( strip_accents='unicode', analyzer='char', token_pattern=r'\\w{1,}', \n",
    "                          stop_words=None, ngram_range=(6,6), max_features=1000)\n",
    "bag_of_words_char6 = char6_vector.fit_transform(train_features)"
   ]
  },
  {
   "cell_type": "code",
   "execution_count": 28,
   "id": "a6683dcd-68c3-410e-b27f-269c9de18f62",
   "metadata": {},
   "outputs": [],
   "source": [
    "#7chargram\n",
    "char7_vector =   CountVectorizer( strip_accents='unicode', analyzer='char', token_pattern=r'\\w{1,}', \n",
    "                          stop_words=None, ngram_range=(7,7), max_features=1000)\n",
    "bag_of_words_char7 = char7_vector.fit_transform(train_features)"
   ]
  },
  {
   "cell_type": "code",
   "execution_count": 29,
   "id": "f06060a5-6881-4437-ac66-a3ac860bd769",
   "metadata": {},
   "outputs": [],
   "source": [
    "#8chargram\n",
    "char8_vector =   CountVectorizer( strip_accents='unicode', analyzer='char', token_pattern=r'\\w{1,}', \n",
    "                          stop_words=None, ngram_range=(1,1), max_features=1000)\n",
    "bag_of_words_char8 = char8_vector.fit_transform(train_features)"
   ]
  },
  {
   "cell_type": "code",
   "execution_count": 30,
   "id": "6278bffd-1299-4e02-9e08-56a6d676ffbe",
   "metadata": {},
   "outputs": [],
   "source": [
    "#9chargram\n",
    "char9_vector =   CountVectorizer( strip_accents='unicode', analyzer='char', token_pattern=r'\\w{1,}', \n",
    "                          stop_words=None, ngram_range=(9,9), max_features=1000)\n",
    "bag_of_words_char9 = char9_vector.fit_transform(train_features)"
   ]
  },
  {
   "cell_type": "code",
   "execution_count": 31,
   "id": "8c6ee499-5b76-4dc2-a583-65c13a49c4cd",
   "metadata": {},
   "outputs": [],
   "source": [
    "#10chargram\n",
    "char10_vector =   CountVectorizer( strip_accents='unicode', analyzer='char', token_pattern=r'\\w{1,}', \n",
    "                          stop_words=None, ngram_range=(10,10), max_features=1000)\n",
    "bag_of_words_char10 = char10_vector.fit_transform(train_features)"
   ]
  },
  {
   "cell_type": "code",
   "execution_count": 32,
   "id": "0f46b728-e6ca-4931-80fb-2cc811663d82",
   "metadata": {},
   "outputs": [],
   "source": [
    "# Get feature names\n",
    "uni_feature_names = uni_vector.get_feature_names()\n",
    "bi_feature_names = bi_vector.get_feature_names()\n",
    "tri_feature_names = tri_vector.get_feature_names()\n",
    "char3_feature_names = char3_vector.get_feature_names()\n",
    "char4_feature_names = char4_vector.get_feature_names()\n",
    "char5_feature_names = char5_vector.get_feature_names()\n",
    "char6_feature_names = char6_vector.get_feature_names()\n",
    "char7_feature_names = char7_vector.get_feature_names()\n",
    "char8_feature_names = char8_vector.get_feature_names()\n",
    "char9_feature_names = char9_vector.get_feature_names()\n",
    "char10_feature_names = char10_vector.get_feature_names()"
   ]
  },
  {
   "cell_type": "code",
   "execution_count": 33,
   "id": "6fe86b37-0b39-44c5-9ff2-dcd15d65cc38",
   "metadata": {},
   "outputs": [
    {
     "data": {
      "text/html": [
       "<div>\n",
       "<style scoped>\n",
       "    .dataframe tbody tr th:only-of-type {\n",
       "        vertical-align: middle;\n",
       "    }\n",
       "\n",
       "    .dataframe tbody tr th {\n",
       "        vertical-align: top;\n",
       "    }\n",
       "\n",
       "    .dataframe thead th {\n",
       "        text-align: right;\n",
       "    }\n",
       "</style>\n",
       "<table border=\"1\" class=\"dataframe\">\n",
       "  <thead>\n",
       "    <tr style=\"text-align: right;\">\n",
       "      <th></th>\n",
       "      <th>a</th>\n",
       "      <th>aan</th>\n",
       "      <th>aansoek</th>\n",
       "      <th>abantu</th>\n",
       "      <th>abantwana</th>\n",
       "      <th>abasebenzi</th>\n",
       "      <th>abe</th>\n",
       "      <th>abo</th>\n",
       "      <th>act</th>\n",
       "      <th>aforika</th>\n",
       "      <th>...</th>\n",
       "      <th>yonke</th>\n",
       "      <th>yoo</th>\n",
       "      <th>zabo</th>\n",
       "      <th>ze</th>\n",
       "      <th>zonke</th>\n",
       "      <th>zwa</th>\n",
       "      <th>zwe</th>\n",
       "      <th>zwi</th>\n",
       "      <th>zwine</th>\n",
       "      <th>zwo</th>\n",
       "    </tr>\n",
       "  </thead>\n",
       "  <tbody>\n",
       "    <tr>\n",
       "      <th>0</th>\n",
       "      <td>0</td>\n",
       "      <td>0</td>\n",
       "      <td>0</td>\n",
       "      <td>0</td>\n",
       "      <td>0</td>\n",
       "      <td>0</td>\n",
       "      <td>0</td>\n",
       "      <td>0</td>\n",
       "      <td>0</td>\n",
       "      <td>0</td>\n",
       "      <td>...</td>\n",
       "      <td>0</td>\n",
       "      <td>0</td>\n",
       "      <td>0</td>\n",
       "      <td>0</td>\n",
       "      <td>0</td>\n",
       "      <td>0</td>\n",
       "      <td>0</td>\n",
       "      <td>0</td>\n",
       "      <td>0</td>\n",
       "      <td>0</td>\n",
       "    </tr>\n",
       "    <tr>\n",
       "      <th>1</th>\n",
       "      <td>1</td>\n",
       "      <td>0</td>\n",
       "      <td>0</td>\n",
       "      <td>0</td>\n",
       "      <td>0</td>\n",
       "      <td>0</td>\n",
       "      <td>0</td>\n",
       "      <td>0</td>\n",
       "      <td>0</td>\n",
       "      <td>0</td>\n",
       "      <td>...</td>\n",
       "      <td>0</td>\n",
       "      <td>0</td>\n",
       "      <td>0</td>\n",
       "      <td>0</td>\n",
       "      <td>0</td>\n",
       "      <td>0</td>\n",
       "      <td>0</td>\n",
       "      <td>0</td>\n",
       "      <td>0</td>\n",
       "      <td>0</td>\n",
       "    </tr>\n",
       "    <tr>\n",
       "      <th>2</th>\n",
       "      <td>4</td>\n",
       "      <td>0</td>\n",
       "      <td>0</td>\n",
       "      <td>0</td>\n",
       "      <td>0</td>\n",
       "      <td>0</td>\n",
       "      <td>0</td>\n",
       "      <td>0</td>\n",
       "      <td>0</td>\n",
       "      <td>0</td>\n",
       "      <td>...</td>\n",
       "      <td>0</td>\n",
       "      <td>0</td>\n",
       "      <td>0</td>\n",
       "      <td>0</td>\n",
       "      <td>0</td>\n",
       "      <td>0</td>\n",
       "      <td>0</td>\n",
       "      <td>0</td>\n",
       "      <td>0</td>\n",
       "      <td>0</td>\n",
       "    </tr>\n",
       "    <tr>\n",
       "      <th>3</th>\n",
       "      <td>2</td>\n",
       "      <td>0</td>\n",
       "      <td>0</td>\n",
       "      <td>0</td>\n",
       "      <td>0</td>\n",
       "      <td>0</td>\n",
       "      <td>0</td>\n",
       "      <td>0</td>\n",
       "      <td>0</td>\n",
       "      <td>0</td>\n",
       "      <td>...</td>\n",
       "      <td>0</td>\n",
       "      <td>0</td>\n",
       "      <td>0</td>\n",
       "      <td>0</td>\n",
       "      <td>0</td>\n",
       "      <td>0</td>\n",
       "      <td>0</td>\n",
       "      <td>0</td>\n",
       "      <td>0</td>\n",
       "      <td>0</td>\n",
       "    </tr>\n",
       "    <tr>\n",
       "      <th>4</th>\n",
       "      <td>0</td>\n",
       "      <td>0</td>\n",
       "      <td>0</td>\n",
       "      <td>0</td>\n",
       "      <td>0</td>\n",
       "      <td>0</td>\n",
       "      <td>0</td>\n",
       "      <td>0</td>\n",
       "      <td>0</td>\n",
       "      <td>0</td>\n",
       "      <td>...</td>\n",
       "      <td>0</td>\n",
       "      <td>0</td>\n",
       "      <td>0</td>\n",
       "      <td>0</td>\n",
       "      <td>0</td>\n",
       "      <td>0</td>\n",
       "      <td>0</td>\n",
       "      <td>0</td>\n",
       "      <td>0</td>\n",
       "      <td>0</td>\n",
       "    </tr>\n",
       "  </tbody>\n",
       "</table>\n",
       "<p>5 rows × 1000 columns</p>\n",
       "</div>"
      ],
      "text/plain": [
       "   a  aan  aansoek  abantu  abantwana  abasebenzi  abe  abo  act  aforika  \\\n",
       "0  0    0        0       0          0           0    0    0    0        0   \n",
       "1  1    0        0       0          0           0    0    0    0        0   \n",
       "2  4    0        0       0          0           0    0    0    0        0   \n",
       "3  2    0        0       0          0           0    0    0    0        0   \n",
       "4  0    0        0       0          0           0    0    0    0        0   \n",
       "\n",
       "   ...  yonke  yoo  zabo  ze  zonke  zwa  zwe  zwi  zwine  zwo  \n",
       "0  ...      0    0     0   0      0    0    0    0      0    0  \n",
       "1  ...      0    0     0   0      0    0    0    0      0    0  \n",
       "2  ...      0    0     0   0      0    0    0    0      0    0  \n",
       "3  ...      0    0     0   0      0    0    0    0      0    0  \n",
       "4  ...      0    0     0   0      0    0    0    0      0    0  \n",
       "\n",
       "[5 rows x 1000 columns]"
      ]
     },
     "execution_count": 33,
     "metadata": {},
     "output_type": "execute_result"
    }
   ],
   "source": [
    "uni_train_features=pd.DataFrame(bag_of_words_uni.toarray(), columns=uni_feature_names)\n",
    "uni_train_features[:5]"
   ]
  },
  {
   "cell_type": "code",
   "execution_count": 34,
   "id": "62d1803a-3a6e-4f6d-9bdb-c60129d5cdda",
   "metadata": {},
   "outputs": [],
   "source": [
    "bi_train_features=pd.DataFrame(bag_of_words_bi.toarray(), columns=bi_feature_names)\n",
    "tri_train_features=pd.DataFrame(bag_of_words_tri.toarray(), columns=tri_feature_names)\n",
    "char3_train_features=pd.DataFrame(bag_of_words_char3.toarray(), columns=char3_feature_names)\n",
    "char4_train_features=pd.DataFrame(bag_of_words_char4.toarray(), columns=char4_feature_names)\n",
    "char5_train_features=pd.DataFrame(bag_of_words_char5.toarray(), columns=char5_feature_names)\n",
    "char6_train_features=pd.DataFrame(bag_of_words_char6.toarray(), columns=char6_feature_names)\n",
    "char7_train_features=pd.DataFrame(bag_of_words_char7.toarray(), columns=char7_feature_names)\n",
    "char8_train_features=pd.DataFrame(bag_of_words_char8.toarray(), columns=char8_feature_names)\n",
    "char9_train_features=pd.DataFrame(bag_of_words_char9.toarray(), columns=char9_feature_names)\n",
    "char10_train_features=pd.DataFrame(bag_of_words_char10.toarray(), columns=char10_feature_names)"
   ]
  },
  {
   "cell_type": "markdown",
   "id": "639546f7-8905-4ca6-9faa-f33112f21203",
   "metadata": {},
   "source": [
    "## Train Machine Learning Algorithms using Train Data"
   ]
  },
  {
   "cell_type": "code",
   "execution_count": 35,
   "id": "7e072166-b77f-4f42-8e81-39f8bcee2474",
   "metadata": {},
   "outputs": [],
   "source": [
    "#apply RandomForestClassifier on train dataset\n",
    "rfc_uni = RandomForestClassifier()                      \n",
    "rfc_uni.fit(uni_train_features, train_labels);\n",
    "\n",
    "rfc_bi = RandomForestClassifier()                      \n",
    "rfc_bi.fit(bi_train_features, train_labels);\n",
    "\n",
    "rfc_tri = RandomForestClassifier()                      \n",
    "rfc_tri.fit(tri_train_features, train_labels);\n",
    "\n",
    "rfc_char3 = RandomForestClassifier()                      \n",
    "rfc_char3.fit(char3_train_features, train_labels);\n",
    "\n",
    "rfc_char4 = RandomForestClassifier()                      \n",
    "rfc_char4.fit(char4_train_features, train_labels);\n",
    "\n",
    "rfc_char5 = RandomForestClassifier()                      \n",
    "rfc_char5.fit(char5_train_features, train_labels);\n",
    "\n",
    "rfc_char6 = RandomForestClassifier()                      \n",
    "rfc_char6.fit(char6_train_features, train_labels);\n",
    "\n",
    "rfc_char7 = RandomForestClassifier()                      \n",
    "rfc_char7.fit(char7_train_features, train_labels);\n",
    "\n",
    "rfc_char8 = RandomForestClassifier()                      \n",
    "rfc_char8.fit(char8_train_features, train_labels);\n",
    "\n",
    "rfc_char9 = RandomForestClassifier()                      \n",
    "rfc_char9.fit(char9_train_features, train_labels);\n",
    "\n",
    "rfc_char10 = RandomForestClassifier()                      \n",
    "rfc_char10.fit(char10_train_features, train_labels);"
   ]
  },
  {
   "cell_type": "code",
   "execution_count": null,
   "id": "15e56e5b-3f9b-4f02-a87c-fb7dd805a116",
   "metadata": {},
   "outputs": [],
   "source": [
    "#apply LinearSVC() on train dataset\n",
    "lsvc_uni = LinearSVC()                      \n",
    "lsvc_uni.fit(uni_train_features, train_labels);\n",
    "\n",
    "lsvc_bi = LinearSVC()                      \n",
    "lsvc_bi.fit(bi_train_features, train_labels);\n",
    "\n",
    "lsvc_tri = LinearSVC()                      \n",
    "lsvc_tri.fit(tri_train_features, train_labels);\n",
    "\n",
    "lsvc_char3 = LinearSVC()                     \n",
    "lsvc_char3.fit(char3_train_features, train_labels);\n",
    "\n",
    "lsvc_char4 = LinearSVC()                     \n",
    "lsvc_char4.fit(char4_train_features, train_labels);\n",
    "\n",
    "lsvc_char5 = LinearSVC()                     \n",
    "lsvc_char5.fit(char5_train_features, train_labels);\n",
    "\n",
    "lsvc_char6 = LinearSVC()                     \n",
    "lsvc_char6.fit(char6_train_features, train_labels);\n",
    "\n",
    "lsvc_char7 = LinearSVC()                     \n",
    "lsvc_char7.fit(char7_train_features, train_labels);\n",
    "\n",
    "lsvc_char8 = LinearSVC()                     \n",
    "lsvc_char8.fit(char8_train_features, train_labels);\n",
    "\n",
    "lsvc_char9 = LinearSVC()                     \n",
    "lsvc_char9.fit(char9_train_features, train_labels);\n",
    "\n",
    "lsvc_char10 = LinearSVC()                     \n",
    "lsvc_char10.fit(char10_train_features, train_labels);"
   ]
  },
  {
   "cell_type": "code",
   "execution_count": null,
   "id": "6c6d7b36-ab6d-4e7f-ab32-de91ec779b5a",
   "metadata": {},
   "outputs": [],
   "source": [
    "#apply LogisticRegression() on train dataset\n",
    "lr_uni = LogisticRegression()                      \n",
    "lr_uni.fit(uni_train_features, train_labels);\n",
    "\n",
    "lr_bi = LogisticRegression()                      \n",
    "lr_bi.fit(bi_train_features, train_labels);\n",
    "\n",
    "lr_tri = LogisticRegression()                      \n",
    "lr_tri.fit(tri_train_features, train_labels);\n",
    "\n",
    "lr_char3 = LogisticRegression()                     \n",
    "lr_char3.fit(char3_train_features, train_labels);\n",
    "\n",
    "lr_char4 = LogisticRegression()                     \n",
    "lr_char4.fit(char4_train_features, train_labels);\n",
    "\n",
    "lr_char5 = LogisticRegression()                     \n",
    "lr_char5.fit(char5_train_features, train_labels);\n",
    "\n",
    "lr_char6 = LogisticRegression()                     \n",
    "lr_char6.fit(char6_train_features, train_labels);\n",
    "\n",
    "lr_char7 = LogisticRegression()                     \n",
    "lr_char7.fit(char7_train_features, train_labels);\n",
    "\n",
    "lr_char8 = LogisticRegression()                     \n",
    "lr_char8.fit(char8_train_features, train_labels);\n",
    "\n",
    "lr_char9 = LogisticRegression()                     \n",
    "lr_char9.fit(char9_train_features, train_labels);\n",
    "\n",
    "lr_char10 = LogisticRegression()                     \n",
    "lr_char10.fit(char10_train_features, train_labels);"
   ]
  },
  {
   "cell_type": "markdown",
   "id": "0924819d-c690-4b75-9320-32969093eee8",
   "metadata": {},
   "source": [
    "## Phase 2: Testing"
   ]
  },
  {
   "cell_type": "code",
   "execution_count": null,
   "id": "34cd1837-7c14-406b-8240-54565d401c6c",
   "metadata": {},
   "outputs": [],
   "source": [
    "uni_test_features = uni_vector.transform(test_features)\n",
    "uni_test_features=pd.DataFrame(uni_test_features.toarray(), columns=uni_feature_names)\n",
    "uni_test_features[:5]"
   ]
  },
  {
   "cell_type": "code",
   "execution_count": null,
   "id": "418a4275-6182-4230-8605-428497efbc2d",
   "metadata": {},
   "outputs": [],
   "source": [
    "bi_test_features = bi_vector.transform(test_features)\n",
    "bi_test_features=pd.DataFrame(bi_test_features.toarray(), columns=bi_feature_names)"
   ]
  },
  {
   "cell_type": "code",
   "execution_count": null,
   "id": "db38c5de-c8ea-47e0-89eb-7d9b72f008eb",
   "metadata": {},
   "outputs": [],
   "source": [
    "tri_test_features = tri_vector.transform(test_features)\n",
    "tri_test_features=pd.DataFrame(tri_test_features.toarray(), columns=tri_feature_names)"
   ]
  },
  {
   "cell_type": "code",
   "execution_count": null,
   "id": "99f18c8a-97f4-41f4-8874-b880c4f003ac",
   "metadata": {},
   "outputs": [],
   "source": [
    "char3_test_features = char3_vector.transform(test_features)\n",
    "char3_test_features=pd.DataFrame(char3_test_features.toarray(), columns=char3_feature_names)"
   ]
  },
  {
   "cell_type": "code",
   "execution_count": null,
   "id": "03b996d7-614b-4659-b32e-cc3bf4d7add3",
   "metadata": {},
   "outputs": [],
   "source": [
    "bi_test_features = bi_vector.transform(test_features)\n",
    "bi_test_features=pd.DataFrame(bi_test_features.toarray(), columns=bi_feature_names)"
   ]
  },
  {
   "cell_type": "code",
   "execution_count": null,
   "id": "73fefda3-fd4c-4166-b7b1-f1e2469ebffd",
   "metadata": {},
   "outputs": [],
   "source": [
    "tri_test_features = tri_vector.transform(test_features)\n",
    "tri_test_features=pd.DataFrame(tri_test_features.toarray(), columns=tri_feature_names)"
   ]
  },
  {
   "cell_type": "code",
   "execution_count": null,
   "id": "8aa8eaed-e3e1-4bf7-84a0-637cc4187041",
   "metadata": {},
   "outputs": [],
   "source": [
    "char4_test_features = char4_vector.transform(test_features)\n",
    "char4_test_features=pd.DataFrame(char4_test_features.toarray(), columns=char4_feature_names)"
   ]
  },
  {
   "cell_type": "code",
   "execution_count": null,
   "id": "61c50db2-7545-465c-889e-1ddc8d5ed5a1",
   "metadata": {},
   "outputs": [],
   "source": [
    "char5_test_features = char5_vector.transform(test_features)\n",
    "char5_test_features=pd.DataFrame(char5_test_features.toarray(), columns=char5_feature_names)"
   ]
  },
  {
   "cell_type": "code",
   "execution_count": null,
   "id": "f984ee3c-5bc4-403a-8b2b-86484a6d9acd",
   "metadata": {},
   "outputs": [],
   "source": [
    "char6_test_features = char6_vector.transform(test_features)\n",
    "char6_test_features=pd.DataFrame(char6_test_features.toarray(), columns=char6_feature_names)"
   ]
  },
  {
   "cell_type": "code",
   "execution_count": null,
   "id": "bd8f4964-8f30-42c8-8364-b2e447af39e6",
   "metadata": {},
   "outputs": [],
   "source": [
    "char7_test_features = char7_vector.transform(test_features)\n",
    "char7_test_features=pd.DataFrame(char7_test_features.toarray(), columns=char7_feature_names)"
   ]
  },
  {
   "cell_type": "code",
   "execution_count": null,
   "id": "76682fc0-546d-4901-a41f-b08d81e1e4a1",
   "metadata": {},
   "outputs": [],
   "source": [
    "char8_test_features = char8_vector.transform(test_features)\n",
    "char8_test_features=pd.DataFrame(char8_test_features.toarray(), columns=char8_feature_names)"
   ]
  },
  {
   "cell_type": "code",
   "execution_count": null,
   "id": "6d041b1c-8102-4f8b-bcff-bfd8dd18393a",
   "metadata": {},
   "outputs": [],
   "source": [
    "char9_test_features = char9_vector.transform(test_features)\n",
    "char9_test_features=pd.DataFrame(char9_test_features.toarray(), columns=char9_feature_names)"
   ]
  },
  {
   "cell_type": "code",
   "execution_count": null,
   "id": "953d5139-31b7-42fe-ab01-4e17f1b3854c",
   "metadata": {},
   "outputs": [],
   "source": [
    "char10_test_features = char10_vector.transform(test_features)\n",
    "char10_test_features=pd.DataFrame(char10_test_features.toarray(), columns=char10_feature_names)"
   ]
  },
  {
   "cell_type": "markdown",
   "id": "dd7869db-b66e-40e3-9a9e-ef6942fbbd67",
   "metadata": {},
   "source": [
    "## Evaluate Machine Learning Algorithms using Test Data"
   ]
  },
  {
   "cell_type": "markdown",
   "id": "7e31a31a-0e27-48e0-936b-a567ae5d5748",
   "metadata": {},
   "source": [
    "#### Random Forest Classifier"
   ]
  },
  {
   "cell_type": "code",
   "execution_count": null,
   "id": "e03f0a0b-deb2-4263-ab11-c7cc08ea4da8",
   "metadata": {},
   "outputs": [],
   "source": [
    "predictions_uni_rfc = rfc_uni.predict(uni_test_features)         #prediction\n",
    "uni_rfc = accuracy_score(test_labels, predictions_uni_rfc)           #accuracy\n",
    "\n",
    "predictions_bi_rfc = rfc_bi.predict(bi_test_features)         #prediction\n",
    "bi_rfc = accuracy_score(test_labels, predictions_bi_rfc)           #accuracy\n",
    "\n",
    "predictions_tri_rfc = rfc_tri.predict(tri_test_features)         #prediction\n",
    "tri_rfc = accuracy_score(test_labels, predictions_tri_rfc)           #accuracy\n",
    "\n",
    "predictions_char3_rfc = rfc_char3.predict(char3_test_features)         #prediction\n",
    "char3_rfc = accuracy_score(test_labels, predictions_char3_rfc)           #accuracy\n",
    "\n",
    "predictions_char4_rfc = rfc_char4.predict(char4_test_features)         #prediction\n",
    "char4_rfc = accuracy_score(test_labels, predictions_char4_rfc)           #accuracy\n",
    "\n",
    "predictions_char5_rfc = rfc_char5.predict(char5_test_features)         #prediction\n",
    "char5_rfc = accuracy_score(test_labels, predictions_char5_rfc)           #accuracy\n",
    "\n",
    "predictions_char6_rfc = rfc_char6.predict(char6_test_features)         #prediction\n",
    "char6_rfc = accuracy_score(test_labels, predictions_char6_rfc)           #accuracy\n",
    "\n",
    "predictions_char7_rfc = rfc_char7.predict(char7_test_features)         #prediction\n",
    "char7_rfc = accuracy_score(test_labels, predictions_char7_rfc)           #accuracy\n",
    "\n",
    "predictions_char8_rfc = rfc_char8.predict(char8_test_features)         #prediction\n",
    "char8_rfc = accuracy_score(test_labels, predictions_char8_rfc)           #accuracy\n",
    "\n",
    "predictions_char9_rfc = rfc_char9.predict(char9_test_features)         #prediction\n",
    "char9_rfc = accuracy_score(test_labels, predictions_char9_rfc)           #accuracy\n",
    "\n",
    "predictions_char10_rfc = rfc_char10.predict(char10_test_features)         #prediction\n",
    "char10_rfc = accuracy_score(test_labels, predictions_char10_rfc)           #accuracy"
   ]
  },
  {
   "cell_type": "markdown",
   "id": "6674c42f-2179-4fc2-ba70-127b377a492f",
   "metadata": {},
   "source": [
    "#### Linear SVC"
   ]
  },
  {
   "cell_type": "code",
   "execution_count": null,
   "id": "01e41d9c-f679-4121-81e7-3ba9fe0d38ab",
   "metadata": {},
   "outputs": [],
   "source": [
    "\n",
    "predictions_uni_lsvc= lsvc_uni.predict(uni_test_features)         #prediction\n",
    "uni_lsvc = accuracy_score(test_labels, predictions_uni_lsvc)           #accuracy\n",
    "\n",
    "predictions_bi_lsvc = lsvc_bi.predict(bi_test_features)         #prediction\n",
    "bi_lsvc = accuracy_score(test_labels, predictions_bi_lsvc)           #accuracy\n",
    "\n",
    "predictions_tri_lsvc = lsvc_tri.predict(tri_test_features)         #prediction\n",
    "tri_lsvc = accuracy_score(test_labels, predictions_tri_lsvc)           #accuracy\n",
    "\n",
    "predictions_char3_lsvc = lsvc_char3.predict(char3_test_features)         #prediction\n",
    "char3_lsvc = accuracy_score(test_labels, predictions_char3_lsvc)           #accuracy\n",
    "\n",
    "predictions_char4_lsvc = lsvc_char4.predict(char4_test_features)         #prediction\n",
    "char4_lsvc = accuracy_score(test_labels, predictions_char4_lsvc)           #accuracy\n",
    "\n",
    "predictions_char5_lsvc = lsvc_char5.predict(char5_test_features)         #prediction\n",
    "char5_lsvc = accuracy_score(test_labels, predictions_char5_lsvc)           #accuracy\n",
    "\n",
    "predictions_char6_lsvc = lsvc_char6.predict(char6_test_features)         #prediction\n",
    "char6_lsvc = accuracy_score(test_labels, predictions_char6_lsvc)           #accuracy\n",
    "\n",
    "predictions_char7_lsvc = lsvc_char7.predict(char7_test_features)         #prediction\n",
    "char7_lsvc = accuracy_score(test_labels, predictions_char7_lsvc)           #accuracy\n",
    "\n",
    "predictions_char8_lsvc = lsvc_char8.predict(char8_test_features)         #prediction\n",
    "char8_lsvc = accuracy_score(test_labels, predictions_char8_lsvc)           #accuracy\n",
    "\n",
    "predictions_char9_lsvc = lsvc_char9.predict(char9_test_features)         #prediction\n",
    "char9_lsvc = accuracy_score(test_labels, predictions_char9_lsvc)           #accuracy\n",
    "\n",
    "predictions_char10_lsvc = lsvc_char10.predict(char10_test_features)         #prediction\n",
    "char10_lsvc = accuracy_score(test_labels, predictions_char10_lsvc)           #accuracy"
   ]
  },
  {
   "cell_type": "markdown",
   "id": "224164a8-e4ba-4430-b642-ec8b942db768",
   "metadata": {},
   "source": [
    "#### Logistic Regression"
   ]
  },
  {
   "cell_type": "code",
   "execution_count": null,
   "id": "d1c69103-7cae-41b7-b680-57f4afa1370f",
   "metadata": {},
   "outputs": [],
   "source": [
    "predictions_uni_lr = lr_uni.predict(uni_test_features)         #prediction\n",
    "uni_lr = accuracy_score(test_labels, predictions_uni_lr)           #accuracy\n",
    "\n",
    "predictions_bi_lr = lr_bi.predict(bi_test_features)         #prediction\n",
    "bi_lr = accuracy_score(test_labels, predictions_bi_lr)           #accuracy\n",
    "\n",
    "predictions_tri_lr = lr_tri.predict(tri_test_features)         #prediction\n",
    "tri_lr = accuracy_score(test_labels, predictions_tri_lr)           #accuracy\n",
    "\n",
    "predictions_char3_lr = lr_char3.predict(char3_test_features)         #prediction\n",
    "char3_lr = accuracy_score(test_labels, predictions_char3_lr)           #accuracy\n",
    "\n",
    "predictions_char4_lr = lr_char4.predict(char4_test_features)         #prediction\n",
    "char4_lr = accuracy_score(test_labels, predictions_char4_lr)           #accuracy\n",
    "\n",
    "predictions_char5_lr = lr_char5.predict(char5_test_features)         #prediction\n",
    "char5_lr = accuracy_score(test_labels, predictions_char5_lr)           #accuracy\n",
    "\n",
    "predictions_char6_lr = lr_char6.predict(char6_test_features)         #prediction\n",
    "char6_lr = accuracy_score(test_labels, predictions_char6_lr)           #accuracy\n",
    "\n",
    "predictions_char7_lr = lr_char7.predict(char7_test_features)         #prediction\n",
    "char7_lr = accuracy_score(test_labels, predictions_char7_lr)           #accuracy\n",
    "\n",
    "predictions_char8_lr = lr_char8.predict(char8_test_features)         #prediction\n",
    "char8_lr = accuracy_score(test_labels, predictions_char8_lr)           #accuracy\n",
    "\n",
    "predictions_char9_lr = lr_char9.predict(char9_test_features)         #prediction\n",
    "char9_lr = accuracy_score(test_labels, predictions_char9_lr)           #accuracy\n",
    "\n",
    "predictions_char10_lr = lr_char10.predict(char10_test_features)         #prediction\n",
    "char10_lr = accuracy_score(test_labels, predictions_char10_lr)           #accuracy"
   ]
  },
  {
   "cell_type": "markdown",
   "id": "e0dafee9-80ac-4608-89e7-9fac91ed230a",
   "metadata": {},
   "source": [
    "### Best Model"
   ]
  },
  {
   "cell_type": "code",
   "execution_count": null,
   "id": "49ef4d55-1f95-4224-8d38-d290f6b66936",
   "metadata": {},
   "outputs": [],
   "source": [
    "!pip install prettytable"
   ]
  },
  {
   "cell_type": "code",
   "execution_count": null,
   "id": "82bc1f0d-1329-45c1-ae2d-1d12583d04e7",
   "metadata": {},
   "outputs": [],
   "source": [
    "from prettytable                     import PrettyTable\n",
    "from astropy.table                   import Table, Column\n",
    "Model_Table = PrettyTable()\n",
    "Model_Table.field_names = [\" \", \"   Random forest Classififier  \", \"     Linear SVC       \",\"   Logistic Regression   \"]\n",
    "Model_Table.add_row([\"  Uni Gram  \", round(uni_rfc,2),round(uni_lsvc,2),round(uni_lr,2)])\n",
    "Model_Table.add_row([\"  Bi Gram  \", round(bi_rfc,2),round(bi_lsvc,2),round(bi_lr,2)])\n",
    "Model_Table.add_row([\"  Tri Gram  \", round(tri_rfc,2),round(tri_lsvc,2),round(tri_lr,2)])\n",
    "Model_Table.add_row([\"  3 Char Gram  \", round(char3_rfc,2),round(char3_lsvc,2),round(char3_lr,2)])\n",
    "Model_Table.add_row([\"  4 Char Gram  \", round(char4_rfc,2),round(char4_lsvc,2),round(char4_lr,2)])\n",
    "Model_Table.add_row([\"  5 Char Gram  \", round(char5_rfc,2),round(char5_lsvc,2),round(char5_lr,2)])\n",
    "Model_Table.add_row([\"  6 Char Gram  \", round(char6_rfc,2),round(char6_lsvc,2),round(char6_lr,2)])\n",
    "Model_Table.add_row([\"  7 Char Gram  \", round(char7_rfc,2),round(char7_lsvc,2),round(char7_lr,2)])\n",
    "Model_Table.add_row([\"  8 Char Gram  \", round(char8_rfc,2),round(char8_lsvc,2),round(char8_lr,2)])\n",
    "Model_Table.add_row([\"  9 Char Gram  \", round(char9_rfc,2),round(char9_lsvc,2),round(char9_lr,2)])\n",
    "Model_Table.add_row([\"  10 Char Gram  \", round(char10_rfc,2),round(char10_lsvc,2),round(char10_lr,2)])\n",
    "print(\"Detailed performance of all models:\")\n",
    "print(Model_Table)"
   ]
  },
  {
   "cell_type": "markdown",
   "id": "8585d2f6-7f42-460c-9be9-3203b8359ec1",
   "metadata": {},
   "source": [
    "## Predictions"
   ]
  },
  {
   "cell_type": "markdown",
   "id": "b2199587-c51b-42e8-81df-7458563bf956",
   "metadata": {},
   "source": [
    "### Test Data"
   ]
  },
  {
   "cell_type": "code",
   "execution_count": null,
   "id": "8908ebd3-5296-4bea-8c06-a087d0bcb6ac",
   "metadata": {},
   "outputs": [],
   "source": [
    "test_df=pd.read_csv('./test_set.csv')\n",
    "test_df.head()"
   ]
  },
  {
   "cell_type": "code",
   "execution_count": null,
   "id": "59090a5b-9213-4e91-9bac-c1567ebbc554",
   "metadata": {},
   "outputs": [],
   "source": [
    "test_df.isnull().sum()"
   ]
  },
  {
   "cell_type": "code",
   "execution_count": null,
   "id": "18d6a43d-3090-4d65-b158-53ad8f293085",
   "metadata": {},
   "outputs": [],
   "source": [
    "test_x=char3_vector.transform(test_df['text'])"
   ]
  },
  {
   "cell_type": "markdown",
   "id": "aacdef4f-bc4a-438a-932c-fff8b0ee9b9f",
   "metadata": {},
   "source": [
    "#### Random Forest"
   ]
  },
  {
   "cell_type": "code",
   "execution_count": null,
   "id": "392eb239-ef35-423b-a18d-1eec4a5c4cda",
   "metadata": {},
   "outputs": [],
   "source": [
    "predictions=rfc_char3.predict(test_x)\n",
    "results=pd.DataFrame({'index':test_df[\"index\"],\n",
    "                     'lang_id': predictions})\n",
    "results.to_csv('rfsubmission.csv', index=False)"
   ]
  },
  {
   "cell_type": "code",
   "execution_count": null,
   "id": "a0a5f24b-f2cc-4b21-bdda-6f2ed92e3b8a",
   "metadata": {},
   "outputs": [],
   "source": [
    "sns.countplot(results.lang_id)"
   ]
  },
  {
   "cell_type": "markdown",
   "id": "15b5e89c-d4c2-451f-a102-ede0f7c68e4b",
   "metadata": {},
   "source": [
    "#### Linear Support Vector Machines"
   ]
  },
  {
   "cell_type": "code",
   "execution_count": null,
   "id": "afbb7b07-16c2-4879-9ed2-317fb2c50e47",
   "metadata": {},
   "outputs": [],
   "source": [
    "predictions=lsvc_char3.predict(test_x)\n",
    "results=pd.DataFrame({'index':test_df[\"index\"],\n",
    "                     'lang_id': predictions})\n",
    "results.to_csv('lsvcsubmission.csv', index=False)"
   ]
  },
  {
   "cell_type": "code",
   "execution_count": null,
   "id": "1af303e2-7267-429c-974b-e1ec22c2a176",
   "metadata": {},
   "outputs": [],
   "source": [
    "sns.countplot(results.lang_id)"
   ]
  },
  {
   "cell_type": "markdown",
   "id": "a0a3de3d-0fa5-440b-9245-748379ab0563",
   "metadata": {},
   "source": [
    "#### Logistic Regression"
   ]
  },
  {
   "cell_type": "code",
   "execution_count": null,
   "id": "f3a0db10-d946-402b-9865-d3215e59d324",
   "metadata": {},
   "outputs": [],
   "source": [
    "predictions=lr_char3.predict(test_x)\n",
    "results=pd.DataFrame({'index':test_df[\"index\"],\n",
    "                     'lang_id': predictions})\n",
    "results.to_csv('lrsubmission.csv', index=False)"
   ]
  },
  {
   "cell_type": "code",
   "execution_count": null,
   "id": "b07f098c-0347-4ea3-b039-abcb7d09757c",
   "metadata": {},
   "outputs": [],
   "source": [
    "sns.countplot(results.lang_id)"
   ]
  },
  {
   "cell_type": "markdown",
   "id": "ab49b5dd-f219-49da-97ba-2feff9ac0152",
   "metadata": {},
   "source": [
    "# Model Explanation"
   ]
  },
  {
   "cell_type": "code",
   "execution_count": null,
   "id": "5b527f19-5cff-451e-8952-fabe8e005321",
   "metadata": {},
   "outputs": [],
   "source": [
    "from sklearn.model_selection import train_test_split"
   ]
  },
  {
   "cell_type": "code",
   "execution_count": null,
   "id": "e467d102",
   "metadata": {
    "scrolled": true
   },
   "outputs": [],
   "source": [
    "X_train, X_test, y_train, y_test = train_test_split(X, y, test_size = 0.33, random_state = 42)"
   ]
  },
  {
   "cell_type": "code",
   "execution_count": null,
   "id": "6d902cb5",
   "metadata": {},
   "outputs": [],
   "source": [
    "# import Random Forest classifier\n",
    "\n",
    "from sklearn.ensemble import RandomForestClassifier\n",
    "\n",
    "\n",
    "\n",
    "# instantiate the classifier \n",
    "\n",
    "rfc = RandomForestClassifier(random_state=0)\n",
    "\n",
    "\n",
    "\n",
    "# fit the model\n",
    "\n",
    "rfc.fit(X_train, y_train)\n",
    "\n",
    "\n",
    "\n",
    "# Predict the Test set results\n",
    "\n",
    "y_pred = rfc.predict(X_test)\n",
    "\n",
    "\n",
    "\n",
    "# Check accuracy score \n",
    "\n",
    "from sklearn.metrics import accuracy_score\n",
    "\n",
    "print('Model accuracy score with 10 decision-trees : {0:0.4f}'. format(accuracy_score(y_test, y_pred)))\n"
   ]
  },
  {
   "cell_type": "code",
   "execution_count": null,
   "id": "3f33e9e4",
   "metadata": {},
   "outputs": [],
   "source": [
    "# instantiate the classifier with n_estimators = 100\n",
    "\n",
    "clf = RandomForestClassifier(random_state=0)\n",
    "\n",
    "\n",
    "\n",
    "# fit the model to the training set\n",
    "\n",
    "clf.fit(X_train, y_train)\n",
    "\n",
    "\n",
    "# Predict on the test set results\n",
    "\n",
    "y_pred = clf.predict(X_test)\n",
    "\n",
    "\n",
    "\n",
    "# Check accuracy score \n",
    "\n",
    "print('Model accuracy score with doors variable removed : {0:0.4f}'. format(accuracy_score(y_test, y_pred)))"
   ]
  },
  {
   "cell_type": "code",
   "execution_count": null,
   "id": "cdd19053",
   "metadata": {},
   "outputs": [],
   "source": [
    "\n",
    "# Print the Confusion Matrix and slice it into four pieces\n",
    "\n",
    "from sklearn.metrics import confusion_matrix\n",
    "\n",
    "cm = confusion_matrix(y_test, y_pred)\n",
    "\n",
    "print('Confusion matrix\\n\\n', cm)"
   ]
  },
  {
   "cell_type": "code",
   "execution_count": null,
   "id": "1fbd1941",
   "metadata": {},
   "outputs": [],
   "source": [
    "\n",
    "from sklearn.metrics import classification_report\n",
    "\n",
    "print(classification_report(y_test, y_pred))"
   ]
  },
  {
   "cell_type": "code",
   "execution_count": null,
   "id": "f0175f2d",
   "metadata": {
    "scrolled": true
   },
   "outputs": [],
   "source": [
    "submission.to_csv('submission.csv', index=False)"
   ]
  },
  {
   "cell_type": "code",
   "execution_count": null,
   "id": "3fb95d8d",
   "metadata": {},
   "outputs": [],
   "source": [
    "submission.shape"
   ]
  }
 ],
 "metadata": {
  "kernelspec": {
   "display_name": "Python 3 (ipykernel)",
   "language": "python",
   "name": "python3"
  },
  "language_info": {
   "codemirror_mode": {
    "name": "ipython",
    "version": 3
   },
   "file_extension": ".py",
   "mimetype": "text/x-python",
   "name": "python",
   "nbconvert_exporter": "python",
   "pygments_lexer": "ipython3",
   "version": "3.9.12"
  }
 },
 "nbformat": 4,
 "nbformat_minor": 5
}
